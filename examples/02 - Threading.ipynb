{
 "cells": [
  {
   "cell_type": "markdown",
   "metadata": {},
   "source": [
    "# Multithreading\n",
    "\n",
    "In the preceding examples, csound was executed within a performance loop and any python code needed to be run within that loop. To use Csound in a more flexible way it is advisable to run the performance loop in a dedicated thread\n",
    "\n",
    "Cound has a helper class called CsoundPerformanceThread, which creates a native thread and runs the performance loop of an existing csound instance on the background. The main Python thread is thus not blocked, allowing the user to interract with it, while the performance thread runs concurrently, outside of the GIL. The user can send messages to the performance thread to toggle pause, schedule input evets, etc.\n",
    "\n",
    "## Example\n"
   ]
  },
  {
   "cell_type": "code",
   "execution_count": 1,
   "metadata": {},
   "outputs": [
    {
     "data": {
      "text/plain": [
       "0"
      ]
     },
     "execution_count": 1,
     "metadata": {},
     "output_type": "execute_result"
    }
   ],
   "source": [
    "import ctcsound7 as ct\n",
    "cs = ct.Csound()\n",
    "cs.setOption('-d -odac -m0')\n",
    "cs.compileOrc(r'''\n",
    "sr     = 48000\n",
    "ksmps  = 64\n",
    "nchnls = 2\n",
    "0dbfs  = 1\n",
    "\n",
    "instr 1\n",
    "  iamp, ipitch, iattack, idec, ipan passign 4\n",
    "  aenv = linen:a(1, iattack, p3, idec)\n",
    "  asig = poscil(iamp, mtof(ipitch)) * aenv\n",
    "  a1, a2 pan2 asig, ipan\n",
    "  outs a1, a2\n",
    "endin\n",
    "''')\n"
   ]
  },
  {
   "cell_type": "markdown",
   "metadata": {},
   "source": [
    "This creates a new thread with the existing csound process"
   ]
  },
  {
   "cell_type": "code",
   "execution_count": 2,
   "metadata": {},
   "outputs": [
    {
     "name": "stderr",
     "output_type": "stream",
     "text": [
      "--Csound version 7.0 (double samples) Dec  4 2024\n",
      "[commit: ababd1a5e09ada51e5013f24732265a4273f9f09]\n",
      "\u001b[mlibsndfile-1.2.2\n",
      "\u001b[msr = 48000.0,\u001b[m kr = 750.000,\u001b[m ksmps = 64\n",
      "\u001b[m0dBFS level = 1.0,\u001b[m A4 tuning = 440.0\n",
      "\u001b[maudio buffered in 256 sample-frame blocks\n",
      "\u001b[mwriting 512 sample blks of 64-bit floats to dac\n",
      "SECTION 1:\n",
      "\u001b[m"
     ]
    }
   ],
   "source": [
    "thread = cs.performanceThread()\n",
    "thread.play()"
   ]
  },
  {
   "cell_type": "markdown",
   "metadata": {},
   "source": [
    "Now, we can send messages to the performance thread:"
   ]
  },
  {
   "cell_type": "code",
   "execution_count": 3,
   "metadata": {},
   "outputs": [],
   "source": [
    "thread.scoreEvent(0, 'i', (1, 0,   1, 0.5, 60, 0.05, 0.3, 0.2))\n",
    "thread.scoreEvent(0, 'i', (1, 0.5, 1, 0.5, 62, 0.05, 0.3, 0.8))"
   ]
  },
  {
   "cell_type": "markdown",
   "metadata": {},
   "source": [
    "When we're done, we stop the performance thread:"
   ]
  },
  {
   "cell_type": "code",
   "execution_count": 4,
   "metadata": {},
   "outputs": [
    {
     "name": "stderr",
     "output_type": "stream",
     "text": [
      "\t\t   overall amps:\u001b[m  0.62995  0.62998\n",
      "\t   overall samples out of range:\u001b[m        0\u001b[m        0\u001b[m\n",
      "0 errors in performance\n",
      "\u001b[m1066 512 sample blks of 64-bit floats written to dac\n"
     ]
    },
    {
     "data": {
      "text/plain": [
       "1"
      ]
     },
     "execution_count": 4,
     "metadata": {},
     "output_type": "execute_result"
    }
   ],
   "source": [
    "thread.stop()\n",
    "thread.join()"
   ]
  },
  {
   "cell_type": "markdown",
   "metadata": {},
   "source": [
    "## Process Callback\n",
    "\n",
    "A performance thread includes methods to control playback and schedule events. All other tasks must be performed via the csound instance. The problem is that when usign a performance thread, accessing the csound instance directly has an added latency. \n",
    "\n",
    "In order to access the csound instance while using the performance thread, it is advisable to set a process callback.\n"
   ]
  },
  {
   "cell_type": "code",
   "execution_count": 1,
   "metadata": {},
   "outputs": [],
   "source": [
    "import queue\n",
    "import time\n",
    "import ctcsound7 as ct"
   ]
  },
  {
   "cell_type": "code",
   "execution_count": 6,
   "metadata": {},
   "outputs": [
    {
     "name": "stderr",
     "output_type": "stream",
     "text": [
      "rtaudio: JACK module enabled\n",
      "--Csound version 7.0 (double samples) Dec  4 2024\n",
      "[commit: ababd1a5e09ada51e5013f24732265a4273f9f09]\n",
      "\u001b[mlibsndfile-1.2.2\n",
      "\u001b[mgraphics suppressed, ascii substituted\n",
      "sr = 48000.0,\u001b[m kr = 750.000,\u001b[m ksmps = 64\n",
      "\u001b[m0dBFS level = 1.0,\u001b[m A4 tuning = 440.0\n",
      "\u001b[morch now loaded\n",
      "\u001b[maudio buffered in 256 sample-frame blocks\n",
      "\u001b[msystem sr: 48000.000000\n",
      "Jack output ports:\n",
      " 0: dac0 (dac:Built-in Audio Analog Stereo:playback_FL)\n",
      " 1: dac1 (dac:Built-in Audio Analog Stereo:playback_FR)\n",
      "connecting channel 0 to Built-in Audio Analog Stereo:playback_FL\n",
      "connecting channel 1 to Built-in Audio Analog Stereo:playback_FR\n",
      "writing 512 sample blks of 64-bit floats to dac:Built-in\n",
      "SECTION 1:\n",
      "\u001b[mWARNING: \u001b[mrtjack: xrun in real time audio\u001b[m\n",
      "\u001b[m"
     ]
    }
   ],
   "source": [
    "cs = ct.Csound()\n",
    "\n",
    "# Change as needed\n",
    "# cs.setOption('-odac')\n",
    "cs.setOption('-+rtaudio=jack -odac:Built-in' )\n",
    "\n",
    "cs.compileOrc(r'''\n",
    "sr     = 48000\n",
    "ksmps  = 64\n",
    "nchnls = 2\n",
    "0dbfs  = 1\n",
    "\n",
    "instr 1\n",
    "  ipitch = p4\n",
    "  asig = poscil(0.1, mtof(ipitch)) \n",
    "  outch 1, asig * linen:a(1, 0.01, p3, 0.2)\n",
    "endin\n",
    "''')\n",
    "\n",
    "thread = cs.performanceThread()\n",
    "thread.play()\n",
    "\n",
    "\n",
    "class ProcessHandler:\n",
    "    def __init__(self, csound):\n",
    "        self.csound = csound\n",
    "        self.thread = csound.performanceThread()\n",
    "        self.q = queue.SimpleQueue()\n",
    "        self.thread.setProcessCallback(self.callback)\n",
    "        \n",
    "    def put(self, job):\n",
    "        self.q.put(job)\n",
    "        \n",
    "    def callback(self, data):\n",
    "        if self.q.qsize() == 0:\n",
    "            return\n",
    "        job = self.q.get_nowait()\n",
    "        job(self.csound, self.thread)\n",
    "\n",
    "    def compile(self, code: str):\n",
    "        self.put(lambda cs, pt: cs.compileOrc(code))\n",
    "\n",
    "    \n",
    "proc = ProcessHandler(cs)\n"
   ]
  },
  {
   "cell_type": "code",
   "execution_count": 7,
   "metadata": {},
   "outputs": [
    {
     "name": "stderr",
     "output_type": "stream",
     "text": [
      "\t   T  1.501 TT  1.501 M:  0.00000  0.00000\n",
      "new alloc for instr 1:\n",
      "\u001b[mnew alloc for instr 10:\n",
      "WARNING: \u001b[mrtjack: xrun in real time audio\u001b[m\n",
      "\u001b[m"
     ]
    }
   ],
   "source": [
    "proc.put(lambda cs, pt: cs.compileOrc(r'''\n",
    "instr 10\n",
    "  ifreq = p4\n",
    "  outch 2, vco2:a(1, ifreq) \n",
    "endin\n",
    "'''))\n",
    "\n",
    "thread.scoreEvent(0, 'i', (1, 0, 1, 72))\n",
    "# The code is compiled in the next process cycle, so it is possible to schedule\n",
    "# an event right away\n",
    "thread.scoreEvent(0, 'i', (10, 0, 3, 600))\n",
    "\n",
    "  "
   ]
  },
  {
   "cell_type": "code",
   "execution_count": 2,
   "metadata": {},
   "outputs": [
    {
     "name": "stderr",
     "output_type": "stream",
     "text": [
      "rtaudio: JACK module enabled\n",
      "--Csound version 7.0 (double samples) Dec  4 2024\n",
      "[commit: ababd1a5e09ada51e5013f24732265a4273f9f09]\n",
      "\u001b[mlibsndfile-1.2.2\n",
      "\u001b[mgraphics suppressed, ascii substituted\n",
      "sr = 48000.0,\u001b[m kr = 750.000,\u001b[m ksmps = 64\n",
      "\u001b[m0dBFS level = 1.0,\u001b[m A4 tuning = 440.0\n",
      "\u001b[morch now loaded\n",
      "\u001b[maudio buffered in 256 sample-frame blocks\n",
      "\u001b[msystem sr: 48000.000000\n",
      "Jack output ports:\n",
      " 0: dac0 (dac:Built-in Audio Analog Stereo:playback_FL)\n",
      " 1: dac1 (dac:Built-in Audio Analog Stereo:playback_FR)\n",
      "connecting channel 0 to Built-in Audio Analog Stereo:playback_FL\n",
      "connecting channel 1 to Built-in Audio Analog Stereo:playback_FR\n",
      "writing 512 sample blks of 64-bit floats to dac:Built-in\n",
      "SECTION 1:\n",
      "\t   T  0.001 TT  0.001 M:  0.00000  0.00000\n",
      "new alloc for instr 1:\n",
      "\u001b[mnew alloc for instr 10:\n",
      "WARNING: \u001b[mrtjack: xrun in real time audio\u001b[m\n",
      "\u001b[m"
     ]
    }
   ],
   "source": [
    "cs = ct.Csound()\n",
    "\n",
    "# Change as needed\n",
    "# cs.setOption('-odac')\n",
    "cs.setOption('-+rtaudio=jack -odac:Built-in' )\n",
    "\n",
    "cs.compileOrc(r'''\n",
    "sr     = 48000\n",
    "ksmps  = 64\n",
    "nchnls = 2\n",
    "0dbfs  = 1\n",
    "\n",
    "instr 1\n",
    "  ipitch = p4\n",
    "  asig = poscil(0.1, mtof(ipitch)) \n",
    "  outch 1, asig * linen:a(1, 0.01, p3, 0.2)\n",
    "endin\n",
    "''')\n",
    "\n",
    "thread = cs.performanceThread(withProcessQueue=True)\n",
    "thread.play()\n",
    "\n",
    "# time.sleep(2)\n",
    "\n",
    "thread.task(lambda cs, pt: cs.compileOrc(r'''\n",
    "instr 10\n",
    "  ifreq = p4\n",
    "  outch 2, vco2:a(0.1, ifreq) \n",
    "endin\n",
    "'''))\n",
    "\n",
    "thread.scoreEvent(0, 'i', (1, 0, 1, 72))\n",
    "thread.scoreEvent(0, 'i', (10, 0, 1, 600))\n"
   ]
  },
  {
   "cell_type": "code",
   "execution_count": 2,
   "metadata": {},
   "outputs": [
    {
     "name": "stderr",
     "output_type": "stream",
     "text": [
      "rtaudio: JACK module enabled\n",
      "--Csound version 7.0 (double samples) Dec  4 2024\n",
      "[commit: ababd1a5e09ada51e5013f24732265a4273f9f09]\n",
      "\u001b[mlibsndfile-1.2.2\n",
      "\u001b[mgraphics suppressed, ascii substituted\n",
      "sr = 48000.0,\u001b[m kr = 750.000,\u001b[m ksmps = 64\n",
      "\u001b[m0dBFS level = 32768.0,\u001b[m A4 tuning = 440.0\n",
      "\u001b[morch now loaded\n",
      "\u001b[maudio buffered in 256 sample-frame blocks\n",
      "\u001b[msystem sr: 48000.000000\n",
      "Jack output ports:\n",
      " 0: dac0 (dac:Built-in Audio Analog Stereo:playback_FL)\n",
      " 1: dac1 (dac:Built-in Audio Analog Stereo:playback_FR)\n",
      "connecting channel 0 to Built-in Audio Analog Stereo:playback_FL\n",
      "writing 256 sample blks of 64-bit floats to dac\n",
      "SECTION 1:\n",
      "\u001b[mWARNING: \u001b[mrtjack: xrun in real time audio\u001b[m\n",
      "\u001b[m"
     ]
    },
    {
     "name": "stdout",
     "output_type": "stream",
     "text": [
      "101.0 3.383636474609375\n"
     ]
    },
    {
     "name": "stderr",
     "output_type": "stream",
     "text": [
      "ftable 101:\n",
      "ftable 101:\t1024 points, scalemax 0.000\n",
      "inactive allocs returned to freespace\n",
      "\t\t   overall amps:\u001b[m      0.0\n",
      "\t   overall samples out of range:\u001b[m        0\u001b[m\n",
      "0 errors in performance\n",
      "\u001b[mElapsed time at end of performance: real: 0.560s, CPU: 0.078s\n",
      "\u001b[m97 256 sample blks of 64-bit floats written to dac\n"
     ]
    }
   ],
   "source": [
    "import ctcsound7 as ct\n",
    "import time\n",
    "\n",
    "cs = ct.Csound()\n",
    "cs.setOption(\"-+rtaudio=jack -odac -B512 -b256\")\n",
    "cs.compileOrc(r'''\n",
    "sr = 48000\n",
    "ksmps = 64\n",
    "''')\n",
    "\n",
    "thread = cs.performanceThread(withProcessQueue=True)\n",
    "thread.play()\n",
    "bufsize = 1024\n",
    "time.sleep(0.5)\n",
    "\n",
    "t0 = time.time()\n",
    "tabnum = thread.evalCode(f'gi__tabnum ftgen 0, 0, {-bufsize}, -2, 0\\nreturn gi__tabnum')\n",
    "t1 = time.time()\n",
    "print(tabnum, (t1 - t0) * 1000)\n",
    "\n",
    "thread.stop()\n",
    "thread.join()\n",
    "del cs\n"
   ]
  },
  {
   "cell_type": "code",
   "execution_count": 3,
   "metadata": {},
   "outputs": [
    {
     "name": "stderr",
     "output_type": "stream",
     "text": [
      "rtaudio: JACK module enabled\n",
      "--Csound version 7.0 (double samples) Dec  4 2024\n",
      "[commit: ababd1a5e09ada51e5013f24732265a4273f9f09]\n",
      "\u001b[mlibsndfile-1.2.2\n",
      "\u001b[mgraphics suppressed, ascii substituted\n",
      "sr = 48000.0,\u001b[m kr = 750.000,\u001b[m ksmps = 64\n",
      "\u001b[m0dBFS level = 32768.0,\u001b[m A4 tuning = 440.0\n",
      "\u001b[morch now loaded\n",
      "\u001b[maudio buffered in 256 sample-frame blocks\n",
      "\u001b[msystem sr: 48000.000000\n",
      "Jack output ports:\n",
      " 0: dac0 (dac:Built-in Audio Analog Stereo:playback_FL)\n",
      " 1: dac1 (dac:Built-in Audio Analog Stereo:playback_FR)\n",
      "connecting channel 0 to Built-in Audio Analog Stereo:playback_FL\n",
      "writing 256 sample blks of 64-bit floats to dac\n",
      "SECTION 1:\n",
      "\u001b[mWARNING: \u001b[mrtjack: xrun in real time audio\u001b[m\n",
      "\u001b[m"
     ]
    },
    {
     "name": "stdout",
     "output_type": "stream",
     "text": [
      "101.0 31.600475311279297\n"
     ]
    },
    {
     "name": "stderr",
     "output_type": "stream",
     "text": [
      "ftable 101:\n",
      "ftable 101:\t1024 points, scalemax 0.000\n",
      "inactive allocs returned to freespace\n",
      "\t\t   overall amps:\u001b[m      0.0\n",
      "\t   overall samples out of range:\u001b[m        0\u001b[m\n",
      "0 errors in performance\n",
      "\u001b[mElapsed time at end of performance: real: 0.588s, CPU: 0.050s\n",
      "\u001b[m105 256 sample blks of 64-bit floats written to dac\n"
     ]
    }
   ],
   "source": [
    "import ctcsound7 as ct\n",
    "import time\n",
    "\n",
    "cs = ct.Csound()\n",
    "cs.setOption(\"-+rtaudio=jack -odac -b256\")\n",
    "cs.compileOrc(r'''\n",
    "sr = 48000\n",
    "ksmps = 64\n",
    "''')\n",
    "\n",
    "# csound.compileOrc(...)\n",
    "thread = cs.performanceThread(withProcessQueue=False)\n",
    "thread.play()\n",
    "bufsize = 1024\n",
    "time.sleep(0.5)\n",
    "t0 = time.time()\n",
    "\n",
    "tabnum = cs.evalCode(f'gi__tabnum ftgen 0, 0, {-bufsize}, -2, 0\\nreturn gi__tabnum')\n",
    "t1 = time.time()\n",
    "print(tabnum, (t1 - t0) * 1000)\n",
    "\n",
    "thread.stop()\n",
    "thread.join()\n",
    "del cs\n"
   ]
  },
  {
   "cell_type": "code",
   "execution_count": 3,
   "metadata": {},
   "outputs": [],
   "source": [
    "thread.compile(f'gi__tabnum ftgen 0, 0, {-bufsize}, -2, 0')"
   ]
  },
  {
   "cell_type": "code",
   "execution_count": 4,
   "metadata": {},
   "outputs": [
    {
     "name": "stderr",
     "output_type": "stream",
     "text": [
      "error:  \u001b[mget_arg_type2: Variable 'gi__tabnum' used before defined\n",
      "Line 0"
     ]
    },
    {
     "data": {
      "text/plain": [
       "nan"
      ]
     },
     "execution_count": 4,
     "metadata": {},
     "output_type": "execute_result"
    },
    {
     "name": "stderr",
     "output_type": "stream",
     "text": [
      "\u001b[m\n",
      "\u001b[merror:  \u001b[mVariable type for gi__tabnum could not be determined.\u001b[m\n",
      "\u001b[mParsing failed due to syntax errors\n",
      "\u001b[mStopping on parser failure\n",
      "\u001b[m"
     ]
    }
   ],
   "source": [
    "cs.evalCode('return gi__tabnum')"
   ]
  },
  {
   "cell_type": "code",
   "execution_count": 4,
   "metadata": {},
   "outputs": [
    {
     "name": "stderr",
     "output_type": "stream",
     "text": [
      "error:  \u001b[mget_arg_type2: Variable 'i__tabnum' used before defined\n",
      "Line 0\u001b[m\n",
      "\u001b[merror:  \u001b[mVariable type for i__tabnum could not be determined.\u001b[m\n",
      "\u001b[mParsing failed due to syntax errors\n",
      "\u001b[mStopping on parser failure\n",
      "\u001b[m"
     ]
    },
    {
     "data": {
      "text/plain": [
       "nan"
      ]
     },
     "execution_count": 4,
     "metadata": {},
     "output_type": "execute_result"
    }
   ],
   "source": [
    "cs.evalCode('return i__tabnum')"
   ]
  },
  {
   "cell_type": "code",
   "execution_count": 7,
   "metadata": {},
   "outputs": [
    {
     "name": "stderr",
     "output_type": "stream",
     "text": [
      "ftable 101:\n",
      "graphics suppressed, ascii substituted\n",
      "ftable 101:\t1024 points, scalemax 0.000\n"
     ]
    },
    {
     "data": {
      "text/plain": [
       "0"
      ]
     },
     "execution_count": 7,
     "metadata": {},
     "output_type": "execute_result"
    }
   ],
   "source": [
    "cs.compileOrc(f'gi__tabnum ftgen 0, 0, {-bufsize}, -2, 0')"
   ]
  },
  {
   "cell_type": "code",
   "execution_count": 8,
   "metadata": {},
   "outputs": [
    {
     "data": {
      "text/plain": [
       "101.0"
      ]
     },
     "execution_count": 8,
     "metadata": {},
     "output_type": "execute_result"
    }
   ],
   "source": [
    "cs.evalCode('return gi__tabnum')"
   ]
  },
  {
   "cell_type": "code",
   "execution_count": null,
   "metadata": {},
   "outputs": [],
   "source": []
  }
 ],
 "metadata": {
  "kernelspec": {
   "display_name": "Python 3 (ipykernel)",
   "language": "python",
   "name": "python3"
  },
  "language_info": {
   "codemirror_mode": {
    "name": "ipython",
    "version": 3
   },
   "file_extension": ".py",
   "mimetype": "text/x-python",
   "name": "python",
   "nbconvert_exporter": "python",
   "pygments_lexer": "ipython3",
   "version": "3.12.3"
  }
 },
 "nbformat": 4,
 "nbformat_minor": 4
}
