{
 "cells": [
  {
   "cell_type": "markdown",
   "metadata": {},
   "source": [
    "# Using ICsound\n",
    "\n",
    "*csoundmagics* includes an *ICsound* class which is adapted from André Cabrera's [icsound](https://github.com/csound/csound/wiki/icsound) module. *ICsound* is bound to the *%%csound* and *%csound* magics command.\n",
    "\n",
    "This notebook is an adaptation of André's [icsound test notebook](https://github.com/csound/csound/blob/develop/frontends/icsound/icsound%20test%20notebook.ipynb)."
   ]
  },
  {
   "cell_type": "markdown",
   "metadata": {},
   "source": [
    "## Starting the Csound engine"
   ]
  },
  {
   "cell_type": "markdown",
   "metadata": {},
   "source": [
    "To use *ICsound* create an *ICsound* instance:"
   ]
  },
  {
   "cell_type": "code",
   "execution_count": 1,
   "metadata": {},
   "outputs": [
    {
     "name": "stdout",
     "output_type": "stream",
     "text": [
      "Populating the interactive namespace from numpy and matplotlib\n"
     ]
    }
   ],
   "source": [
    "%pylab inline"
   ]
  },
  {
   "cell_type": "code",
   "execution_count": 2,
   "metadata": {},
   "outputs": [],
   "source": [
    "%load_ext csoundmagics"
   ]
  },
  {
   "cell_type": "markdown",
   "metadata": {},
   "source": [
    "Creating an *ICsound* object automatically starts the engine:"
   ]
  },
  {
   "cell_type": "code",
   "execution_count": 3,
   "metadata": {},
   "outputs": [
    {
     "name": "stdout",
     "output_type": "stream",
     "text": [
      "Csound engine started at slot#: 1.\n",
      "Listening to port 12894\n"
     ]
    }
   ],
   "source": [
    "cs = ICsound(port=12894)"
   ]
  },
  {
   "cell_type": "markdown",
   "metadata": {},
   "source": [
    "You can set the properties of the Csound engine with parameters to the startEngine() function."
   ]
  },
  {
   "cell_type": "code",
   "execution_count": 4,
   "metadata": {},
   "outputs": [
    {
     "name": "stdout",
     "output_type": "stream",
     "text": [
      "Help on method startEngine in module csoundmagics:\n",
      "\n",
      "startEngine(sr=48000, ksmps=100, nchnls=2, zerodbfs=1.0, dac='dac', adc='', port=0, bufferSize=0) method of csoundmagics.ICsound instance\n",
      "    Start an ICsound engine.\n",
      "    \n",
      "    The user can specify values for sr, ksmps, nchnls, zerodbfs, dac, adc,\n",
      "    a port number, and the messages buffer size. If a port number is given,\n",
      "    this engine will listen to that port for csound code and events.\n",
      "\n"
     ]
    }
   ],
   "source": [
    "help(cs.startEngine)"
   ]
  },
  {
   "cell_type": "markdown",
   "metadata": {},
   "source": [
    "The engine runs in a separate thread, so it doesn't block execution of python."
   ]
  },
  {
   "cell_type": "code",
   "execution_count": 5,
   "metadata": {},
   "outputs": [
    {
     "name": "stdout",
     "output_type": "stream",
     "text": [
      "CsoundMagics: Csound already running\n"
     ]
    }
   ],
   "source": [
    "cs.startEngine()"
   ]
  },
  {
   "cell_type": "markdown",
   "metadata": {},
   "source": [
    "Use the *%%csound* magic command to directly type csound language code in the cell and send it to the engine. The number after the magic command is optional; it references the slot where the engine is running. If omitted, slot#1 is assumed."
   ]
  },
  {
   "cell_type": "code",
   "execution_count": 6,
   "metadata": {
    "collapsed": true
   },
   "outputs": [],
   "source": [
    "%%csound 1\n",
    "gkinstr init 1"
   ]
  },
  {
   "cell_type": "code",
   "execution_count": 7,
   "metadata": {
    "collapsed": true
   },
   "outputs": [],
   "source": [
    "%%csound\n",
    "print i(gkinstr)"
   ]
  },
  {
   "cell_type": "markdown",
   "metadata": {},
   "source": [
    "So where did it print?"
   ]
  },
  {
   "cell_type": "code",
   "execution_count": 8,
   "metadata": {},
   "outputs": [
    {
     "name": "stdout",
     "output_type": "stream",
     "text": [
      "Reading options from $HOME/.csound6rc\n",
      "rtaudio: ALSA module enabled\n",
      "rtmidi: ALSA Raw MIDI module enabled\n",
      "UDP server started on port 12894 \n",
      "displays suppressed\n",
      "0dBFS level = 1.0\n",
      "orch now loaded\n",
      "audio buffered in 1024 sample-frame blocks\n",
      "writing 2048 sample blks of 64-bit floats to dac \n",
      "SECTION 1:\n",
      "instr 0:  #i0 = 1.000\n",
      "\n"
     ]
    }
   ],
   "source": [
    "cs.printLog()"
   ]
  },
  {
   "cell_type": "markdown",
   "metadata": {},
   "source": [
    "By default, messages from Csound are not shown, but they are stored in an internal buffer. You can view them with the printLog() function. If the log is getting too long and confusing, use the clearLog() function."
   ]
  },
  {
   "cell_type": "markdown",
   "metadata": {},
   "source": [
    "## Function tables"
   ]
  },
  {
   "cell_type": "markdown",
   "metadata": {},
   "source": [
    "You can create csound f-tables directly from python lists or numpy arrays:"
   ]
  },
  {
   "cell_type": "code",
   "execution_count": 9,
   "metadata": {
    "collapsed": true
   },
   "outputs": [],
   "source": [
    "cs.fillTable(1, array([8, 7, 9, 1, 1, 1]))\n",
    "cs.fillTable(2, [4, 5, 7, 0, 8, 7, 9, 6])"
   ]
  },
  {
   "cell_type": "markdown",
   "metadata": {},
   "source": [
    "Tables can be plotted in the usual matplotlib way, but *ICsound* provides a plotTable function which styles the graphs."
   ]
  },
  {
   "cell_type": "code",
   "execution_count": 10,
   "metadata": {},
   "outputs": [
    {
     "data": {
      "image/png": "[encoded data removed]",
      "text/plain": [
       "<matplotlib.figure.Figure at 0x7f5aabe9ca90>"
      ]
     },
     "metadata": {},
     "output_type": "display_data"
    }
   ],
   "source": [
    "cs.plotTable(1)\n",
    "cs.plotTable(2, reuse=True)\n",
    "grid()"
   ]
  },
  {
   "cell_type": "markdown",
   "metadata": {},
   "source": [
    "You can get the function table values from the csound instance:"
   ]
  },
  {
   "cell_type": "code",
   "execution_count": 11,
   "metadata": {},
   "outputs": [
    {
     "data": {
      "text/plain": [
       "array([ 4.,  5.,  7.,  0.,  8.,  7.,  9.,  6.])"
      ]
     },
     "execution_count": 11,
     "metadata": {},
     "output_type": "execute_result"
    }
   ],
   "source": [
    "cs.table(2)"
   ]
  },
  {
   "cell_type": "code",
   "execution_count": 12,
   "metadata": {},
   "outputs": [
    {
     "data": {
      "image/png": "[encoded data removed]",
      "text/plain": [
       "<matplotlib.figure.Figure at 0x7f5ae4cd05c0>"
      ]
     },
     "metadata": {},
     "output_type": "display_data"
    }
   ],
   "source": [
    "cs.makeTable(2, 1024, 10, 1)\n",
    "cs.makeTable(3, 1024, -10, 0.5, 1)\n",
    "cs.plotTable(2)\n",
    "cs.plotTable(3, reuse=True)\n",
    "#ylim((-1.1,1.1))"
   ]
  },
  {
   "cell_type": "code",
   "execution_count": 13,
   "metadata": {},
   "outputs": [
    {
     "data": {
      "text/plain": [
       "array([ 0.57580819,  0.58081396,  0.58579786,  0.5907597 ,  0.5956993 ])"
      ]
     },
     "execution_count": 13,
     "metadata": {},
     "output_type": "execute_result"
    }
   ],
   "source": [
    "cs.table(2)[100: 105]"
   ]
  },
  {
   "cell_type": "markdown",
   "metadata": {},
   "source": [
    "The following will create 320 tables with 720 points each:"
   ]
  },
  {
   "cell_type": "code",
   "execution_count": 14,
   "metadata": {},
   "outputs": [
    {
     "name": "stdout",
     "output_type": "stream",
     "text": [
      "0 .. 1 .. 2 .. 3 .. 4 .. 5 .. 6 .. 7 .. 8 .. 9 .. 10 .. 11 .. 12 .. 13 .. 14 .. 15 .. 16 .. 17 .. 18 .. 19 .. 20 .. 21 .. 22 .. 23 .. 24 .. 25 .. 26 .. 27 .. 28 .. 29 .. 30 .. 31 .. 32 .. 33 .. 34 .. 35 .. 36 .. 37 .. 38 .. 39 .. 40 .. 41 .. 42 .. 43 .. 44 .. 45 .. 46 .. 47 .. 48 .. 49 .. 50 .. 51 .. 52 .. 53 .. 54 .. 55 .. 56 .. 57 .. 58 .. 59 .. 60 .. 61 .. 62 .. 63 .. 64 .. 65 .. 66 .. 67 .. 68 .. 69 .. 70 .. 71 .. 72 .. 73 .. 74 .. 75 .. 76 .. 77 .. 78 .. 79 .. 80 .. 81 .. 82 .. 83 .. 84 .. 85 .. 86 .. 87 .. 88 .. 89 .. 90 .. 91 .. 92 .. 93 .. 94 .. 95 .. 96 .. 97 .. 98 .. 99 .. 100 .. 101 .. 102 .. 103 .. 104 .. 105 .. 106 .. 107 .. 108 .. 109 .. 110 .. 111 .. 112 .. 113 .. 114 .. 115 .. 116 .. 117 .. 118 .. 119 .. 120 .. 121 .. 122 .. 123 .. 124 .. 125 .. 126 .. 127 .. 128 .. 129 .. 130 .. 131 .. 132 .. 133 .. 134 .. 135 .. 136 .. 137 .. 138 .. 139 .. 140 .. 141 .. 142 .. 143 .. 144 .. 145 .. 146 .. 147 .. 148 .. 149 .. 150 .. 151 .. 152 .. 153 .. 154 .. 155 .. 156 .. 157 .. 158 .. 159 .. 160 .. 161 .. 162 .. 163 .. 164 .. 165 .. 166 .. 167 .. 168 .. 169 .. 170 .. 171 .. 172 .. 173 .. 174 .. 175 .. 176 .. 177 .. 178 .. 179 .. 180 .. 181 .. 182 .. 183 .. 184 .. 185 .. 186 .. 187 .. 188 .. 189 .. 190 .. 191 .. 192 .. 193 .. 194 .. 195 .. 196 .. 197 .. 198 .. 199 .. 200 .. 201 .. 202 .. 203 .. 204 .. 205 .. 206 .. 207 .. 208 .. 209 .. 210 .. 211 .. 212 .. 213 .. 214 .. 215 .. 216 .. 217 .. 218 .. 219 .. 220 .. 221 .. 222 .. 223 .. 224 .. 225 .. 226 .. 227 .. 228 .. 229 .. 230 .. 231 .. 232 .. 233 .. 234 .. 235 .. 236 .. 237 .. 238 .. 239 .. 240 .. 241 .. 242 .. 243 .. 244 .. 245 .. 246 .. 247 .. 248 .. 249 .. 250 .. 251 .. 252 .. 253 .. 254 .. 255 .. 256 .. 257 .. 258 .. 259 .. 260 .. 261 .. 262 .. 263 .. 264 .. 265 .. 266 .. 267 .. 268 .. 269 .. 270 .. 271 .. 272 .. 273 .. 274 .. 275 .. 276 .. 277 .. 278 .. 279 .. 280 .. 281 .. 282 .. 283 .. 284 .. 285 .. 286 .. 287 .. 288 .. 289 .. 290 .. 291 .. 292 .. 293 .. 294 .. 295 .. 296 .. 297 .. 298 .. 299 .. 300 .. 301 .. 302 .. 303 .. 304 .. 305 .. 306 .. 307 .. 308 .. 309 .. 310 .. 311 .. 312 .. 313 .. 314 .. 315 .. 316 .. 317 .. 318 .. 319 .. "
     ]
    }
   ],
   "source": [
    "randsig = random.random((320, 720))\n",
    "i = 0\n",
    "for i, row in enumerate(randsig):\n",
    "    cs.fillTable(50 + i, row)\n",
    "    print(i, '..', end=' ')"
   ]
  },
  {
   "cell_type": "code",
   "execution_count": 15,
   "metadata": {},
   "outputs": [
    {
     "data": {
      "image/png": "[encoded data removed]",
      "text/plain": [
       "<matplotlib.figure.Figure at 0x7f5a9c1cd438>"
      ]
     },
     "metadata": {},
     "output_type": "display_data"
    }
   ],
   "source": [
    "cs.plotTable(104)"
   ]
  },
  {
   "cell_type": "markdown",
   "metadata": {},
   "source": [
    "## Sending instruments"
   ]
  },
  {
   "cell_type": "markdown",
   "metadata": {},
   "source": [
    "You can send instruments to a running csound engine with the *%%csound* magic. Any syntax errors will be displayed inline."
   ]
  },
  {
   "cell_type": "code",
   "execution_count": 16,
   "metadata": {},
   "outputs": [
    {
     "name": "stdout",
     "output_type": "stream",
     "text": [
      "\n",
      "error: syntax error, unexpected T_IDENT  (token \"asds\") line 2:\n",
      ">>>asig asds <<<\n",
      "Unexpected untyped word asig when expecting a variable\n",
      "Parsing failed due to invalid input!\n",
      "Stopping on parser failure\n",
      "\n"
     ]
    }
   ],
   "source": [
    "%%csound 1\n",
    "instr 1\n",
    "asig asds"
   ]
  },
  {
   "cell_type": "code",
   "execution_count": 17,
   "metadata": {},
   "outputs": [
    {
     "name": "stdout",
     "output_type": "stream",
     "text": [
      "\n",
      "error: syntax error, unexpected $end  (token \"\") line 3:\n",
      ">>>outs asig, asig <<<\n",
      "Parsing failed due to invalid input!\n",
      "Stopping on parser failure\n",
      "\n"
     ]
    }
   ],
   "source": [
    "%%csound 1\n",
    "instr 1\n",
    "asig oscil 0.5, 440\n",
    "outs asig, asig"
   ]
  },
  {
   "cell_type": "code",
   "execution_count": 18,
   "metadata": {
    "collapsed": true
   },
   "outputs": [],
   "source": [
    "%%csound 1\n",
    "instr 1\n",
    "asig oscil 0.5, 440\n",
    "outs asig, asig\n",
    "endin"
   ]
  },
  {
   "cell_type": "markdown",
   "metadata": {},
   "source": [
    "## Channels"
   ]
  },
  {
   "cell_type": "markdown",
   "metadata": {},
   "source": [
    "Csound channels can be used to send values to Csound. They can affect running instances of instruments by using the *invalue/chnget* opcodes:"
   ]
  },
  {
   "cell_type": "code",
   "execution_count": 19,
   "metadata": {
    "collapsed": true
   },
   "outputs": [],
   "source": [
    "cs.setChannel(\"val\", 20)"
   ]
  },
  {
   "cell_type": "markdown",
   "metadata": {},
   "source": [
    "You can also read the channels from Csound. These channels can be set from *ICsound* or within instruments with the *outvalue/chnset* opcodes:"
   ]
  },
  {
   "cell_type": "code",
   "execution_count": 20,
   "metadata": {},
   "outputs": [
    {
     "data": {
      "text/plain": [
       "(20.0, c_int(0))"
      ]
     },
     "execution_count": 20,
     "metadata": {},
     "output_type": "execute_result"
    }
   ],
   "source": [
    "cs.channel(\"val\")"
   ]
  },
  {
   "cell_type": "markdown",
   "metadata": {},
   "source": [
    "## Recording the output"
   ]
  },
  {
   "cell_type": "markdown",
   "metadata": {},
   "source": [
    "You can record the realtime output from csound:"
   ]
  },
  {
   "cell_type": "code",
   "execution_count": 21,
   "metadata": {
    "collapsed": true
   },
   "outputs": [],
   "source": [
    "cs.startRecord(\"out.wav\")"
   ]
  },
  {
   "cell_type": "code",
   "execution_count": 22,
   "metadata": {
    "collapsed": true
   },
   "outputs": [],
   "source": [
    "cs.sendScore(\"i 1 0 1\")\n",
    "import time\n",
    "time.sleep(1)"
   ]
  },
  {
   "cell_type": "code",
   "execution_count": 23,
   "metadata": {
    "collapsed": true
   },
   "outputs": [],
   "source": [
    "cs.stopRecord()"
   ]
  },
  {
   "cell_type": "code",
   "execution_count": 24,
   "metadata": {},
   "outputs": [
    {
     "name": "stdout",
     "output_type": "stream",
     "text": [
      "Lecture WAVE 'out.wav' : Signed 16 bit Little Endian, Fréquence 48000 Hz, Stéréo\r\n"
     ]
    }
   ],
   "source": [
    "!aplay out.wav"
   ]
  },
  {
   "cell_type": "markdown",
   "metadata": {},
   "source": [
    "## Remote engines"
   ]
  },
  {
   "cell_type": "markdown",
   "metadata": {},
   "source": [
    "You can also interact with engines through UDP. Note that not all operations are available, notably reading f-tables, but you can send instruments and note events to the remote engine."
   ]
  },
  {
   "cell_type": "code",
   "execution_count": 25,
   "metadata": {},
   "outputs": [
    {
     "name": "stdout",
     "output_type": "stream",
     "text": [
      "Csound engine started at slot#: 2.\n"
     ]
    }
   ],
   "source": [
    "cs_client = ICsound()\n",
    "cs_client.startClient()"
   ]
  },
  {
   "cell_type": "code",
   "execution_count": 26,
   "metadata": {
    "collapsed": true
   },
   "outputs": [],
   "source": [
    "cs.clearLog()"
   ]
  },
  {
   "cell_type": "markdown",
   "metadata": {},
   "source": [
    "Now send notes and instruments from the client:"
   ]
  },
  {
   "cell_type": "code",
   "execution_count": 27,
   "metadata": {
    "collapsed": true
   },
   "outputs": [],
   "source": [
    "cs_client.sendScore(\"i 1 0 1\")\n",
    "cs_client.sendCode(\"print i(gkinstr)\")"
   ]
  },
  {
   "cell_type": "markdown",
   "metadata": {},
   "source": [
    "And show the log in the server:"
   ]
  },
  {
   "cell_type": "code",
   "execution_count": 28,
   "metadata": {},
   "outputs": [
    {
     "name": "stdout",
     "output_type": "stream",
     "text": [
      "instr 0:  #i0 = 1.000\n",
      "\n"
     ]
    }
   ],
   "source": [
    "cs.printLog()"
   ]
  },
  {
   "cell_type": "markdown",
   "metadata": {},
   "source": [
    "## Stopping the engine"
   ]
  },
  {
   "cell_type": "code",
   "execution_count": 29,
   "metadata": {
    "collapsed": true
   },
   "outputs": [],
   "source": [
    "cs.stopEngine()"
   ]
  },
  {
   "cell_type": "code",
   "execution_count": 30,
   "metadata": {},
   "outputs": [
    {
     "data": {
      "text/plain": [
       "<csoundmagics.ICsound at 0x7f5aabec05c0>"
      ]
     },
     "execution_count": 30,
     "metadata": {},
     "output_type": "execute_result"
    }
   ],
   "source": [
    "cs"
   ]
  },
  {
   "cell_type": "markdown",
   "metadata": {},
   "source": [
    "If we don't need *cs_client* anymore, we can delete its slot with the *%csound* line magic (note the single % sign and the negative slot#). The python instance *cs_client* can then be deleted:"
   ]
  },
  {
   "cell_type": "code",
   "execution_count": 31,
   "metadata": {},
   "outputs": [
    {
     "name": "stdout",
     "output_type": "stream",
     "text": [
      "Erasing slot#: 2\n"
     ]
    }
   ],
   "source": [
    "%csound -2\n",
    "del cs_client"
   ]
  },
  {
   "cell_type": "markdown",
   "metadata": {},
   "source": [
    "## Audification"
   ]
  },
  {
   "cell_type": "markdown",
   "metadata": {},
   "source": [
    "Reading Earthquake data through a web API:"
   ]
  },
  {
   "cell_type": "code",
   "execution_count": 32,
   "metadata": {
    "collapsed": true
   },
   "outputs": [],
   "source": [
    "prefix = 'http://service.iris.edu/irisws/timeseries/1/query?'\n",
    "SCNL_parameters = 'net=IU&sta=ANMO&loc=00&cha=BHZ&'\n",
    "times = 'starttime=2005-01-01T00:00:00&endtime=2005-01-02T00:00:00&'\n",
    "output = 'output=ascii'\n",
    "import urllib\n",
    "f = urllib.request.urlopen(prefix + SCNL_parameters + times + output)\n",
    "timeseries = f.read()"
   ]
  },
  {
   "cell_type": "code",
   "execution_count": 33,
   "metadata": {},
   "outputs": [
    {
     "data": {
      "text/plain": [
       "[<matplotlib.lines.Line2D at 0x7f5a8bfedc18>]"
      ]
     },
     "execution_count": 33,
     "metadata": {},
     "output_type": "execute_result"
    },
    {
     "data": {
      "image/png": "[encoded data removed]",
      "text/plain": [
       "<matplotlib.figure.Figure at 0x7f5a9c16a3c8>"
      ]
     },
     "metadata": {},
     "output_type": "display_data"
    }
   ],
   "source": [
    "import ctcsound\n",
    "data = ctcsound.pstring(timeseries).split('\\n')\n",
    "dates = []\n",
    "values = []\n",
    "\n",
    "for line in data[1:-1]:\n",
    "    date, val = line.split()\n",
    "    dates.append(date)\n",
    "    values.append(float(val))\n",
    "\n",
    "plot(values)"
   ]
  },
  {
   "cell_type": "code",
   "execution_count": 34,
   "metadata": {},
   "outputs": [
    {
     "name": "stdout",
     "output_type": "stream",
     "text": [
      "Csound engine started at slot#: 1.\n"
     ]
    }
   ],
   "source": [
    "cs.startEngine()\n",
    "cs.fillTable(1, values)"
   ]
  },
  {
   "cell_type": "markdown",
   "metadata": {},
   "source": [
    "Instrument to play back the earthquake data stored in a table:"
   ]
  },
  {
   "cell_type": "code",
   "execution_count": 35,
   "metadata": {
    "collapsed": true
   },
   "outputs": [],
   "source": [
    "%%csound 1\n",
    "instr 1\n",
    "idur = p3\n",
    "itable = p4\n",
    "asig poscil 1/8000, 1/p3, p4\n",
    "outs asig, asig\n",
    "endin"
   ]
  },
  {
   "cell_type": "markdown",
   "metadata": {},
   "source": [
    "Listen:"
   ]
  },
  {
   "cell_type": "code",
   "execution_count": 36,
   "metadata": {
    "collapsed": true
   },
   "outputs": [],
   "source": [
    "cs.sendScore('i 1 0 3 1')"
   ]
  },
  {
   "cell_type": "markdown",
   "metadata": {},
   "source": [
    "Slower:"
   ]
  },
  {
   "cell_type": "code",
   "execution_count": 37,
   "metadata": {
    "collapsed": true
   },
   "outputs": [],
   "source": [
    "cs.sendScore('i 1 0 7 1')"
   ]
  },
  {
   "cell_type": "markdown",
   "metadata": {},
   "source": [
    "Quicker:"
   ]
  },
  {
   "cell_type": "code",
   "execution_count": 38,
   "metadata": {
    "collapsed": true
   },
   "outputs": [],
   "source": [
    "cs.sendScore('i 1 0 1 1')"
   ]
  },
  {
   "cell_type": "markdown",
   "metadata": {},
   "source": [
    "## Other tests"
   ]
  },
  {
   "cell_type": "markdown",
   "metadata": {},
   "source": [
    "Another engine:"
   ]
  },
  {
   "cell_type": "code",
   "execution_count": 39,
   "metadata": {},
   "outputs": [
    {
     "name": "stdout",
     "output_type": "stream",
     "text": [
      "Csound engine started at slot#: 2.\n"
     ]
    }
   ],
   "source": [
    "ics = ICsound(bufferSize=64)"
   ]
  },
  {
   "cell_type": "code",
   "execution_count": 40,
   "metadata": {},
   "outputs": [
    {
     "name": "stdout",
     "output_type": "stream",
     "text": [
      " 1: {'rt_module': '', 'device_id': 'dac:hw:0,0', 'isOutput': True, 'device_name': 'ALC892 Ana', 'max_nchnls': -1}\n",
      " 2: {'rt_module': '', 'device_id': 'dac:hw:0,1', 'isOutput': True, 'device_name': 'ALC892 Dig', 'max_nchnls': -1}\n",
      " 3: {'rt_module': '', 'device_id': 'dac:hw:0,2', 'isOutput': True, 'device_name': 'ALC892 Alt', 'max_nchnls': -1}\n",
      " 4: {'rt_module': '', 'device_id': 'dac:hw:1,3', 'isOutput': True, 'device_name': 'HDMI 0 : H', 'max_nchnls': -1}\n",
      " 5: {'rt_module': '', 'device_id': 'dac:hw:1,7', 'isOutput': True, 'device_name': 'HDMI 1 : H', 'max_nchnls': -1}\n",
      " 6: {'rt_module': '', 'device_id': 'dac:hw:1,8', 'isOutput': True, 'device_name': 'HDMI 2 : H', 'max_nchnls': -1}\n",
      " 7: {'rt_module': '', 'device_id': 'dac:hw:2,0', 'isOutput': True, 'device_name': 'USB Audio ', 'max_nchnls': -1}\n"
     ]
    }
   ],
   "source": [
    "ics.listInterfaces()"
   ]
  },
  {
   "cell_type": "code",
   "execution_count": 41,
   "metadata": {
    "collapsed": true
   },
   "outputs": [],
   "source": [
    "%%csound 2\n",
    "\n",
    "instr 1\n",
    "asig oscil 0.5, 440\n",
    "outs asig, asig\n",
    "endin"
   ]
  },
  {
   "cell_type": "code",
   "execution_count": 42,
   "metadata": {
    "collapsed": true
   },
   "outputs": [],
   "source": [
    "ics.sendScore(\"i 1 0 0.5\")"
   ]
  },
  {
   "cell_type": "code",
   "execution_count": 43,
   "metadata": {},
   "outputs": [
    {
     "name": "stdout",
     "output_type": "stream",
     "text": [
      "Erasing slot#: 2\n"
     ]
    }
   ],
   "source": [
    "%csound -2"
   ]
  },
  {
   "cell_type": "code",
   "execution_count": 44,
   "metadata": {
    "collapsed": true
   },
   "outputs": [],
   "source": [
    "del ics"
   ]
  },
  {
   "cell_type": "code",
   "execution_count": 45,
   "metadata": {
    "collapsed": true
   },
   "outputs": [],
   "source": [
    "cs.stopEngine()"
   ]
  }
 ],
 "metadata": {
  "kernelspec": {
   "display_name": "Python 3",
   "language": "python",
   "name": "python3"
  },
  "language_info": {
   "codemirror_mode": {
    "name": "ipython",
    "version": 3
   },
   "file_extension": ".py",
   "mimetype": "text/x-python",
   "name": "python",
   "nbconvert_exporter": "python",
   "pygments_lexer": "ipython3",
   "version": "3.5.2"
  }
 },
 "nbformat": 4,
 "nbformat_minor": 1
}
